{
 "cells": [
  {
   "cell_type": "markdown",
   "metadata": {},
   "source": [
    "🔹 Explicación\n",
    "\n",
    "import os: Importa el módulo os, pero en este código no se utiliza. Lo puedes quitar.\n",
    "\n",
    "biblioteca = {}: Crea un diccionario vacío. Este diccionario será la \"estantería\" de libros. Cada clave será un ID (número) y cada valor será una tupla con los datos del libro.\n",
    "\n",
    "contadorId = 1: Es un número que empieza en 1 y va aumentando cada vez que agregas un libro, para asegurarte de que cada libro tenga un ID único."
   ]
  },
  {
   "cell_type": "code",
   "execution_count": null,
   "metadata": {},
   "outputs": [],
   "source": [
    "import os\n",
    "\n",
    "biblioteca = {}\n",
    "contadorId = 1  # Contador para generar IDs únicos\n"
   ]
  },
  {
   "cell_type": "markdown",
   "metadata": {},
   "source": [
    "🔹 Explicación\n",
    "\n",
    "def agregar_libro(): → Define una función para agregar libros.\n",
    "\n",
    "global contadorId → Le avisa a Python que vamos a modificar la variable global contadorId (no crear una nueva).\n",
    "\n",
    "input(...) → Pide los datos al usuario: título, autor, género y año.\n",
    "\n",
    "try/except ValueError → Intenta convertir el año a número entero. Si el usuario escribe algo como \"dos mil\", salta error y la función se detiene."
   ]
  },
  {
   "cell_type": "code",
   "execution_count": null,
   "metadata": {},
   "outputs": [],
   "source": [
    "def agregar_libro():\n",
    "    global contadorId\n",
    "    \n",
    "    titulo = input(\"Ingrese el título del libro: \")\n",
    "    autor = input(\"Ingrese el autor del libro: \")\n",
    "    genero = input(\"Ingrese el género del libro: \")\n",
    "    try:\n",
    "        año = int(input(\"Ingrese el año de publicación: \"))\n",
    "    except ValueError:\n",
    "        print(\"Error: El año debe ser un número entero.\")\n",
    "        return\n"
   ]
  },
  {
   "cell_type": "markdown",
   "metadata": {},
   "source": [
    "🔹 Explicación\n",
    "\n",
    "Pregunta si ya lo leíste.\n",
    "\n",
    ".lower() convierte la respuesta a minúscula (S → s).\n",
    "\n",
    "Si responde s, se guarda \"✅\". Si responde n, \"❌\". Si escribe otra cosa, muestra error y termina la función."
   ]
  },
  {
   "cell_type": "code",
   "execution_count": null,
   "metadata": {},
   "outputs": [],
   "source": [
    "    estado = input(\"¿Ya lo leíste? (s/n): \").lower()\n",
    "    if estado == 's':\n",
    "        estado = \"✅\"\n",
    "    elif estado == 'n':\n",
    "        estado = \"❌\"\n",
    "    else:\n",
    "        print(\"Error: Debe responder 's' para sí o 'n' para no.\")\n",
    "        return\n"
   ]
  },
  {
   "cell_type": "markdown",
   "metadata": {},
   "source": [
    "🔹 Explicación\n",
    "\n",
    "Crea una tupla con toda la info del libro.\n",
    "\n",
    "La guarda en el diccionario:\n",
    "\n",
    "Clave = contadorId.\n",
    "\n",
    "Valor = tupla con los datos.\n",
    "\n",
    "Muestra qué ID se asignó.\n",
    "\n",
    "Aumenta contadorId en 1, para el siguiente libro."
   ]
  },
  {
   "cell_type": "code",
   "execution_count": null,
   "metadata": {},
   "outputs": [],
   "source": [
    "    # Crear tupla con la información\n",
    "    libro = (titulo, autor, genero, año, estado)\n",
    "    biblioteca[contadorId] = libro\n",
    "    print(f\"Libro agregado con ID: {contadorId}\")\n",
    "    contadorId += 1\n"
   ]
  },
  {
   "cell_type": "markdown",
   "metadata": {},
   "source": [
    "🔹 Explicación\n",
    "\n",
    "Si la biblioteca está vacía, lo avisa y se detiene.\n",
    "\n",
    "for id_libro, info in biblioteca.items(): → Recorre el diccionario.\n",
    "\n",
    "id_libro es la clave (ejemplo: 1).\n",
    "\n",
    "info es la tupla con los datos.\n",
    "\n",
    "La tupla se desempaqueta en sus partes (titulo, autor, genero, año, estado).\n",
    "\n",
    "Imprime cada libro en una línea."
   ]
  },
  {
   "cell_type": "code",
   "execution_count": null,
   "metadata": {},
   "outputs": [],
   "source": [
    "def ver_biblioteca():\n",
    "    if not biblioteca:\n",
    "        print(\"La biblioteca está vacía.\")\n",
    "        return\n",
    "    print(\"\\n--- Biblioteca Completa ---\")\n",
    "    for id_libro, info in biblioteca.items():\n",
    "        titulo, autor, genero, año, estado = info\n",
    "        print(f\"ID: {id_libro} | Título: {titulo} | Autor: {autor} | Género: {genero} | Año: {año} | Estado: {estado}\")\n",
    "    print(\"---------------------------\")\n"
   ]
  },
  {
   "cell_type": "markdown",
   "metadata": {},
   "source": [
    "🔹 Explicación\n",
    "\n",
    "Si no hay libros, lo dice.\n",
    "\n",
    "Pregunta cómo buscar: título, autor o género.\n",
    "\n",
    "Pide el término de búsqueda y lo convierte a minúsculas.\n",
    "\n",
    "Recorre cada libro. La variable coincidencia se usa para marcar si el libro cumple con el criterio."
   ]
  },
  {
   "cell_type": "code",
   "execution_count": null,
   "metadata": {},
   "outputs": [],
   "source": [
    "def buscar_libros():\n",
    "    if not biblioteca:\n",
    "        print(\"La biblioteca está vacía.\")\n",
    "        return\n",
    "    \n",
    "    criterio = input(\"Buscar por (1: Título, 2: Autor, 3: Género): \")\n",
    "    busqueda = input(\"Ingrese el término de búsqueda: \").lower()\n",
    "    \n",
    "    encontrados = False\n",
    "    for id_libro, info in biblioteca.items():\n",
    "        titulo, autor, genero, año, estado = info\n",
    "        coincidencia = False\n"
   ]
  },
  {
   "cell_type": "markdown",
   "metadata": {},
   "source": [
    "🔹 Explicación\n",
    "\n",
    "Si eligió 1, compara con el título.\n",
    "\n",
    "Si 2, compara con autor.\n",
    "\n",
    "Si 3, compara con género.\n",
    "\n",
    "busqueda in titulo.lower() significa: “¿la palabra buscada está dentro del título?”.\n",
    "\n",
    "Si escribe otra cosa que no sea 1, 2 o 3, muestra error."
   ]
  },
  {
   "cell_type": "code",
   "execution_count": null,
   "metadata": {},
   "outputs": [],
   "source": [
    "        if criterio == '1':\n",
    "            if busqueda in titulo.lower():\n",
    "                coincidencia = True\n",
    "        elif criterio == '2':\n",
    "            if busqueda in autor.lower():\n",
    "                coincidencia = True\n",
    "        elif criterio == '3':\n",
    "            if busqueda in genero.lower():\n",
    "                coincidencia = True\n",
    "        else:\n",
    "            print(\"Criterio inválido.\")\n",
    "            return\n"
   ]
  },
  {
   "cell_type": "markdown",
   "metadata": {},
   "source": [
    "🔹 Explicación\n",
    "\n",
    "Si hubo coincidencia, se imprime el libro.\n",
    "\n",
    "Si al final no encontró ninguno, lo avisa."
   ]
  },
  {
   "cell_type": "code",
   "execution_count": null,
   "metadata": {},
   "outputs": [],
   "source": [
    "        if coincidencia:\n",
    "            print(f\"ID: {id_libro} | Título: {titulo} | Autor: {autor} | Género: {genero} | Año: {año} | Estado: {estado}\")\n",
    "            encontrados = True\n",
    "    \n",
    "    if not encontrados:\n",
    "        print(\"No se encontraron libros que coincidan con la búsqueda.\")\n"
   ]
  },
  {
   "cell_type": "markdown",
   "metadata": {},
   "source": [
    "🔹 Explicación\n",
    "\n",
    "Si la biblioteca está vacía, lo dice.\n",
    "\n",
    "Pide el ID del libro, lo convierte a número entero. Si no es válido, error."
   ]
  },
  {
   "cell_type": "code",
   "execution_count": null,
   "metadata": {},
   "outputs": [],
   "source": [
    "def cambiar_estado():\n",
    "    if not biblioteca:\n",
    "        print(\"La biblioteca está vacía.\")\n",
    "        return\n",
    "    \n",
    "    try:\n",
    "        id_libro = int(input(\"Ingrese el ID del libro: \"))\n",
    "    except ValueError:\n",
    "        print(\"Error: El ID debe ser un número entero.\")\n",
    "        return\n"
   ]
  },
  {
   "cell_type": "markdown",
   "metadata": {},
   "source": [
    "Verifica que el ID exista en el diccionario."
   ]
  },
  {
   "cell_type": "code",
   "execution_count": null,
   "metadata": {},
   "outputs": [],
   "source": [
    "    if id_libro not in biblioteca:\n",
    "        print(\"ID no encontrado.\")\n",
    "        return\n"
   ]
  },
  {
   "cell_type": "markdown",
   "metadata": {},
   "source": [
    "Pide el nuevo estado, lo convierte a emoji."
   ]
  },
  {
   "cell_type": "code",
   "execution_count": null,
   "metadata": {},
   "outputs": [],
   "source": [
    "    nuevo_estado_input = input(\"¿Ya lo leíste? (s/n): \").lower()\n",
    "    if nuevo_estado_input == 's':\n",
    "        nuevo_estado = \"✅\"\n",
    "    elif nuevo_estado_input == 'n':\n",
    "        nuevo_estado = \"❌\"\n",
    "    else:\n",
    "        print(\"Error: Debe responder 's' o 'n'.\")\n",
    "        return\n"
   ]
  },
  {
   "cell_type": "markdown",
   "metadata": {},
   "source": [
    "Como las tuplas no se pueden modificar, se crea una nueva tupla con los mismos datos pero cambiando el estado.\n",
    "\n",
    "Se reemplaza en el diccionario.\n",
    "\n",
    "🔹 ¿Qué significa la raya piso (_)?\n",
    "\n",
    "En Python, el guion bajo (_) se usa como “variable de descarte” o “dummy variable”.\n",
    "Es decir, cuando tú no necesitas usar un valor, pero lo quieres \"sacar\" igual para mantener el orden, le pones _."
   ]
  },
  {
   "cell_type": "code",
   "execution_count": null,
   "metadata": {},
   "outputs": [],
   "source": [
    "    # Actualizar la tupla\n",
    "    titulo, autor, genero, año, _ = biblioteca[id_libro]\n",
    "    biblioteca[id_libro] = (titulo, autor, genero, año, nuevo_estado)\n",
    "    print(\"Estado actualizado correctamente.\")\n"
   ]
  },
  {
   "cell_type": "markdown",
   "metadata": {},
   "source": [
    "🔹 Explicación\n",
    "\n",
    "Si la biblioteca está vacía, lo dice.\n",
    "\n",
    "Calcula total de libros.\n",
    "\n",
    "Inicializa contadores de leídos y por leer.\n",
    "\n",
    "Crea un diccionario generos para contar cuántos libros hay de cada género."
   ]
  },
  {
   "cell_type": "code",
   "execution_count": null,
   "metadata": {},
   "outputs": [],
   "source": [
    "def estadisticas():\n",
    "    if not biblioteca:\n",
    "        print(\"La biblioteca está vacía.\")\n",
    "        return\n",
    "    \n",
    "    total_libros = len(biblioteca)\n",
    "    leidos = 0\n",
    "    por_leer = 0\n",
    "    generos = {}\n"
   ]
  },
  {
   "cell_type": "markdown",
   "metadata": {},
   "source": [
    "Recorre cada libro.\n",
    "\n",
    "Cuenta si está leído o no.\n",
    "\n",
    "Suma el género al diccionario generos.\n",
    "\n",
    "🔹 ¿Qué hace .values()?\n",
    "\n",
    "En Python, los diccionarios tienen tres métodos muy usados para recorrerlos:\n",
    "\n",
    ".keys() → devuelve solo las claves (los IDs en tu caso).\n",
    "\n",
    ".values() → devuelve solo los valores (las tuplas con la info del libro).\n",
    "\n",
    ".items() → devuelve pares (clave, valor).\n",
    "\n",
    "\n",
    "\n",
    "Aquí generos es un diccionario que guarda cuántos libros hay de cada género.\n",
    "\n",
    "Si ya existe ese género en el diccionario → suma 1.\n",
    "\n",
    "Si no existe → lo crea con valor 1."
   ]
  },
  {
   "cell_type": "code",
   "execution_count": null,
   "metadata": {},
   "outputs": [],
   "source": [
    "    for info in biblioteca.values():\n",
    "        _, _, genero, _, estado = info\n",
    "        if estado == \"✅\":\n",
    "            leidos += 1\n",
    "        else:\n",
    "            por_leer += 1\n",
    "        \n",
    "        if genero in generos:\n",
    "            generos[genero] += 1\n",
    "        else:\n",
    "            generos[genero] = 1\n"
   ]
  },
  {
   "cell_type": "markdown",
   "metadata": {},
   "source": [
    "Muestra el resumen.\n",
    "\n",
    "Encuentra el género más frecuente recorriendo generos.\n",
    "\n",
    "if generos:\n",
    "\n",
    "Comprueba si el diccionario generos no está vacío. En Python, un diccionario vacío es False en contexto booleano; si tiene elementos entra al bloque. Esto evita errores al buscar el género más frecuente cuando no hay datos.\n",
    "\n",
    "print(\"Géneros más frecuentes:\")\n",
    "\n",
    "Texto informativo; opcional estético.\n",
    "\n",
    "max_count = 0 y genero_max = \"\"\n",
    "\n",
    "Inicializan las variables para lógica de búsqueda:\n",
    "\n",
    "max_count guardará la cantidad más alta encontrada.\n",
    "\n",
    "genero_max guardará el nombre del género con esa cantidad.\n",
    "\n",
    "for g, count in generos.items():\n",
    "\n",
    "Recorre el diccionario generos. generos.items() devuelve pares (clave, valor); aquí g es el nombre del género y count es la cantidad de libros de ese género.\n",
    "\n",
    "if count > max_count:\n",
    "\n",
    "Si la cantidad del género actual es mayor que la máxima conocida, se actualizan max_count y genero_max. (O sea, se guarda el nuevo líder.)\n",
    "\n",
    "print(f\"Género más frecuente: {genero_max} ({max_count} libros)\")\n",
    "\n",
    "Al terminar el for, imprime cuál fue el género con más libros y cuántos hay.\n",
    "\n",
    "print(\"--------------------\")\n",
    "\n",
    "Línea final separadora.\n",
    "\n",
    "Ejemplo práctico (para ver cómo cambia todo)\n",
    "\n",
    "Imagina generos = {\"Novela\": 3, \"Programación\": 2, \"Ciencia\": 3}. Iteraciones:\n",
    "\n",
    "Inicio: max_count = 0, genero_max = \"\".\n",
    "\n",
    "1ª iteración (g=\"Novela\", count=3): 3 > 0 → max_count = 3, genero_max = \"Novela\".\n",
    "\n",
    "2ª iteración (g=\"Programación\", count=2): 2 > 3 → no, sigue \"Novela\".\n",
    "\n",
    "3ª iteración (g=\"Ciencia\", count=3): 3 > 3 → no (porque es >, no >=), sigue \"Novela\".\n",
    "\n",
    "Resultado final: imprime Género más frecuente: Novela (3 libros)."
   ]
  },
  {
   "cell_type": "code",
   "execution_count": null,
   "metadata": {},
   "outputs": [],
   "source": [
    "    print(f\"\\n--- Estadísticas ---\")\n",
    "    print(f\"Total de libros: {total_libros}\")\n",
    "    print(f\"Libros leídos (✅): {leidos}\")\n",
    "    print(f\"Libros por leer (❌): {por_leer}\")\n",
    "    \n",
    "    if generos:\n",
    "        print(\"Géneros más frecuentes:\")\n",
    "        max_count = 0\n",
    "        genero_max = \"\"\n",
    "        for g, count in generos.items():\n",
    "            if count > max_count:\n",
    "                max_count = count\n",
    "                genero_max = g\n",
    "        print(f\"Género más frecuente: {genero_max} ({max_count} libros)\")\n",
    "    print(\"--------------------\")\n"
   ]
  },
  {
   "cell_type": "markdown",
   "metadata": {},
   "source": [
    "Revisa que la biblioteca no esté vacía.\n",
    "\n",
    "Pide el ID, lo convierte a entero."
   ]
  },
  {
   "cell_type": "code",
   "execution_count": null,
   "metadata": {},
   "outputs": [],
   "source": [
    "def eliminar_libro():\n",
    "    if not biblioteca:\n",
    "        print(\"La biblioteca está vacía.\")\n",
    "        return\n",
    "    \n",
    "    try:\n",
    "        id_libro = int(input(\"Ingrese el ID del libro a eliminar: \"))\n",
    "    except ValueError:\n",
    "        print(\"Error: El ID debe ser un número entero.\")\n",
    "        return\n"
   ]
  },
  {
   "cell_type": "markdown",
   "metadata": {},
   "source": [
    "Verifica que el ID exista.\n",
    "\n",
    "Pide confirmación antes de borrar.\n",
    "\n",
    "Si confirma, usa del para eliminar la entrada del diccionario."
   ]
  },
  {
   "cell_type": "code",
   "execution_count": null,
   "metadata": {},
   "outputs": [],
   "source": [
    "    if id_libro not in biblioteca:\n",
    "        print(\"ID no encontrado.\")\n",
    "        return\n",
    "    \n",
    "    titulo, autor, genero, año, estado = biblioteca[id_libro]\n",
    "    confirm = input(f\"¿Eliminar '{titulo}' de {autor}? (s/n): \").lower()\n",
    "    if confirm == 's':\n",
    "        del biblioteca[id_libro]\n",
    "        print(\"Libro eliminado correctamente.\")\n",
    "    else:\n",
    "        print(\"Eliminación cancelada.\")\n"
   ]
  },
  {
   "cell_type": "markdown",
   "metadata": {},
   "source": [
    "🔹 Explicación\n",
    "\n",
    "Es el menú principal.\n",
    "\n",
    "Usa un bucle while True → se repite hasta que elijas salir.\n",
    "\n",
    "match opcion: funciona como un switch: según lo que escribas (1 a 7), llama a la función correspondiente.\n",
    "\n",
    "Si eliges 7, imprime despedida y break sale del bucle."
   ]
  },
  {
   "cell_type": "code",
   "execution_count": null,
   "metadata": {},
   "outputs": [],
   "source": [
    "def main():\n",
    "    while True:\n",
    "        print(\"\\n--- Menú de Biblioteca ---\")\n",
    "        print(\"1. Agregar libro\")\n",
    "        print(\"2. Ver biblioteca completa\")\n",
    "        print(\"3. Buscar libros\")\n",
    "        print(\"4. Cambiar estado de lectura\")\n",
    "        print(\"5. Ver estadísticas\")\n",
    "        print(\"6. Eliminar libro\")\n",
    "        print(\"7. Salir\")\n",
    "        \n",
    "        opcion = input(\"Seleccione una opción: \")\n",
    "        \n",
    "        match opcion:\n",
    "            case '1':\n",
    "                agregar_libro()\n",
    "            case '2':\n",
    "                ver_biblioteca()\n",
    "            case '3':\n",
    "                buscar_libros()\n",
    "            case '4':\n",
    "                cambiar_estado()\n",
    "            case '5':\n",
    "                estadisticas()\n",
    "            case '6':\n",
    "                eliminar_libro()\n",
    "            case '7':\n",
    "                print(\"¡Hasta luego! 👋\")\n",
    "                break\n",
    "            case _:\n",
    "                print(\"Opción inválida. Intente nuevamente.\")\n"
   ]
  },
  {
   "cell_type": "markdown",
   "metadata": {},
   "source": [
    "🔹 Explicación\n",
    "\n",
    "Esto hace que el programa se ejecute solo si lo corres directamente (no si lo importas desde otro archivo).\n",
    "\n",
    "Llama a main(), que abre el menú."
   ]
  },
  {
   "cell_type": "code",
   "execution_count": null,
   "metadata": {},
   "outputs": [],
   "source": [
    "if __name__ == \"__main__\":\n",
    "    main()\n"
   ]
  }
 ],
 "metadata": {
  "kernelspec": {
   "display_name": "Python 3",
   "language": "python",
   "name": "python3"
  },
  "language_info": {
   "name": "python",
   "version": "3.10.12"
  }
 },
 "nbformat": 4,
 "nbformat_minor": 2
}
